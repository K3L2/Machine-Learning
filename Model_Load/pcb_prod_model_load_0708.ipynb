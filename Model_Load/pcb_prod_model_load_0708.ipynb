{
 "cells": [
  {
   "cell_type": "code",
   "execution_count": 1,
   "id": "ce413dca-ff31-489e-889b-8ebb288ee4e0",
   "metadata": {},
   "outputs": [],
   "source": [
    "from PCB_Model import Model_load"
   ]
  },
  {
   "cell_type": "code",
   "execution_count": 2,
   "id": "3c5fd469-b449-4876-8f05-a034be3fc57f",
   "metadata": {},
   "outputs": [],
   "source": [
    "model_path = 'pcb_prod_model_0708.h5'\n",
    "class_path = 'pcb_class_dict_0708.json'"
   ]
  },
  {
   "cell_type": "code",
   "execution_count": 3,
   "id": "930f5292-1427-45bb-b0f4-6a2972d4a568",
   "metadata": {},
   "outputs": [
    {
     "name": "stderr",
     "output_type": "stream",
     "text": [
      "C:\\Users\\YJ_PC\\anaconda3\\Lib\\site-packages\\keras\\src\\layers\\convolutional\\base_conv.py:107: UserWarning: Do not pass an `input_shape`/`input_dim` argument to a layer. When using Sequential models, prefer using an `Input(shape)` object as the first layer in the model instead.\n",
      "  super().__init__(activity_regularizer=activity_regularizer, **kwargs)\n",
      "WARNING:absl:Compiled the loaded model, but the compiled metrics have yet to be built. `model.compile_metrics` will be empty until you train or evaluate the model.\n",
      "WARNING:absl:Error in loading the saved optimizer state. As a result, your model is starting with a freshly initialized optimizer.\n"
     ]
    }
   ],
   "source": [
    "pcb_prod_model = Model_load(model_path,class_path)"
   ]
  },
  {
   "cell_type": "code",
   "execution_count": 4,
   "id": "6e3bf621-9a64-4cd2-b000-f96f766958d9",
   "metadata": {},
   "outputs": [
    {
     "name": "stdout",
     "output_type": "stream",
     "text": [
      "\u001b[1m1/1\u001b[0m \u001b[32m━━━━━━━━━━━━━━━━━━━━\u001b[0m\u001b[37m\u001b[0m \u001b[1m0s\u001b[0m 350ms/step\n",
      "5\n"
     ]
    }
   ],
   "source": [
    "img_path = '../../PCB_DATASET/images/Open_circuit/05_open_circuit_02.jpg'\n",
    "\n",
    "result = pcb_prod_model.predict_image(True,img_path)\n",
    "print(result)"
   ]
  },
  {
   "cell_type": "code",
   "execution_count": 6,
   "id": "277b278a-09da-4d2e-9dd3-f5d079729e0b",
   "metadata": {},
   "outputs": [
    {
     "name": "stdout",
     "output_type": "stream",
     "text": [
      "<class 'numpy.ndarray'>\n",
      "(2156, 2544, 3)\n",
      "\u001b[1m1/1\u001b[0m \u001b[32m━━━━━━━━━━━━━━━━━━━━\u001b[0m\u001b[37m\u001b[0m \u001b[1m0s\u001b[0m 39ms/step\n",
      "5\n"
     ]
    }
   ],
   "source": [
    "import cv2\n",
    "\n",
    "img = cv2.imread(img_path)\n",
    "print(type(img))\n",
    "print(img.shape) # 0~255\n",
    "\n",
    "result = pcb_prod_model.predict_image(False,img)\n",
    "print(result)"
   ]
  }
 ],
 "metadata": {
  "kernelspec": {
   "display_name": "Python 3 (ipykernel)",
   "language": "python",
   "name": "python3"
  },
  "language_info": {
   "codemirror_mode": {
    "name": "ipython",
    "version": 3
   },
   "file_extension": ".py",
   "mimetype": "text/x-python",
   "name": "python",
   "nbconvert_exporter": "python",
   "pygments_lexer": "ipython3",
   "version": "3.12.4"
  }
 },
 "nbformat": 4,
 "nbformat_minor": 5
}
